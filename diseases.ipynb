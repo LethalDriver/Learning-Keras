{
 "cells": [
  {
   "cell_type": "code",
   "execution_count": 101,
   "metadata": {
    "collapsed": true
   },
   "outputs": [],
   "source": [
    "import pandas as pd\n",
    "import numpy as np\n",
    "import scipy.sparse\n",
    "from sklearn import feature_extraction\n",
    "from sklearn.feature_extraction.text import CountVectorizer\n",
    "from scipy import sparse\n",
    "import keras\n",
    "from keras import models\n",
    "from keras import layers\n",
    "from keras import utils\n",
    "import keras_preprocessing\n",
    "from keras_preprocessing.text import Tokenizer"
   ]
  },
  {
   "cell_type": "code",
   "execution_count": null,
   "outputs": [],
   "source": [
    "df = pd.read_csv('Symptom2Disease.csv')\n",
    "df = df.drop(columns=['Unnamed: 0'])"
   ],
   "metadata": {
    "collapsed": false
   }
  },
  {
   "cell_type": "code",
   "execution_count": null,
   "outputs": [],
   "source": [
    "all_data = np.asarray(df).astype(str)"
   ],
   "metadata": {
    "collapsed": false
   }
  },
  {
   "cell_type": "code",
   "execution_count": null,
   "outputs": [],
   "source": [
    "all_data.shape"
   ],
   "metadata": {
    "collapsed": false
   }
  },
  {
   "cell_type": "code",
   "execution_count": null,
   "outputs": [],
   "source": [
    "data_split = np.hsplit(all_data, 2)"
   ],
   "metadata": {
    "collapsed": false
   }
  },
  {
   "cell_type": "code",
   "execution_count": null,
   "outputs": [],
   "source": [
    "text_data = data_split[1]\n",
    "text_data = [''.join(ele) for ele in list(text_data)]\n",
    "labels_data = data_split[0]\n",
    "labels = np.unique(labels_data, return_inverse=True)[1]\n",
    "#labels = keras.utils.to_categorical(labels)"
   ],
   "metadata": {
    "collapsed": false
   }
  },
  {
   "cell_type": "code",
   "execution_count": null,
   "outputs": [],
   "source": [
    "vec = CountVectorizer()\n",
    "text_vectorized = vec.fit_transform(text_data)\n",
    "text_vectorized = scipy.sparse.csc_matrix.toarray(text_vectorized)"
   ],
   "metadata": {
    "collapsed": false
   }
  },
  {
   "cell_type": "code",
   "execution_count": 103,
   "outputs": [],
   "source": [
    "tokenizer = keras_preprocessing.text.Tokenizer(num_words=5000)\n",
    "tokenizer.fit_on_texts(text_data)\n",
    "sequences = tokenizer.texts_to_sequences(text_data)\n",
    "one_hot_results = tokenizer.texts_to_matrix(text_data, mode='binary')"
   ],
   "metadata": {
    "collapsed": false
   }
  },
  {
   "cell_type": "code",
   "execution_count": 105,
   "outputs": [
    {
     "name": "stdout",
     "output_type": "stream",
     "text": [
      "Epoch 1/20\n",
      "27/27 [==============================] - 1s 26ms/step - loss: 2.6936 - accuracy: 0.3214 - val_loss: 3.7918 - val_accuracy: 0.0278\n",
      "Epoch 2/20\n",
      "27/27 [==============================] - 0s 4ms/step - loss: 1.6274 - accuracy: 0.7893 - val_loss: 4.5559 - val_accuracy: 0.0278\n",
      "Epoch 3/20\n",
      "27/27 [==============================] - 0s 4ms/step - loss: 0.8617 - accuracy: 0.9548 - val_loss: 5.6066 - val_accuracy: 0.0278\n",
      "Epoch 4/20\n",
      "27/27 [==============================] - 0s 4ms/step - loss: 0.4122 - accuracy: 0.9881 - val_loss: 6.6324 - val_accuracy: 0.0278\n",
      "Epoch 5/20\n",
      "27/27 [==============================] - 0s 18ms/step - loss: 0.1987 - accuracy: 0.9976 - val_loss: 7.5957 - val_accuracy: 0.0278\n",
      "Epoch 6/20\n",
      "27/27 [==============================] - 0s 5ms/step - loss: 0.0969 - accuracy: 0.9988 - val_loss: 8.5846 - val_accuracy: 0.0278\n",
      "Epoch 7/20\n",
      "27/27 [==============================] - 0s 5ms/step - loss: 0.0479 - accuracy: 1.0000 - val_loss: 9.5255 - val_accuracy: 0.0278\n",
      "Epoch 8/20\n",
      "27/27 [==============================] - 0s 4ms/step - loss: 0.0228 - accuracy: 1.0000 - val_loss: 10.3815 - val_accuracy: 0.0278\n",
      "Epoch 9/20\n",
      "27/27 [==============================] - 0s 4ms/step - loss: 0.0111 - accuracy: 1.0000 - val_loss: 11.3133 - val_accuracy: 0.0278\n",
      "Epoch 10/20\n",
      "27/27 [==============================] - 0s 4ms/step - loss: 0.0054 - accuracy: 1.0000 - val_loss: 12.2593 - val_accuracy: 0.0278\n",
      "Epoch 11/20\n",
      "27/27 [==============================] - 0s 5ms/step - loss: 0.0025 - accuracy: 1.0000 - val_loss: 13.1493 - val_accuracy: 0.0278\n",
      "Epoch 12/20\n",
      "27/27 [==============================] - 0s 4ms/step - loss: 0.0012 - accuracy: 1.0000 - val_loss: 13.9560 - val_accuracy: 0.0278\n",
      "Epoch 13/20\n",
      "27/27 [==============================] - 0s 10ms/step - loss: 5.7614e-04 - accuracy: 1.0000 - val_loss: 14.6300 - val_accuracy: 0.0278\n",
      "Epoch 14/20\n",
      "27/27 [==============================] - 0s 4ms/step - loss: 2.6349e-04 - accuracy: 1.0000 - val_loss: 15.2162 - val_accuracy: 0.0278\n",
      "Epoch 15/20\n",
      "27/27 [==============================] - 0s 4ms/step - loss: 1.2402e-04 - accuracy: 1.0000 - val_loss: 15.9992 - val_accuracy: 0.0278\n",
      "Epoch 16/20\n",
      "27/27 [==============================] - 0s 5ms/step - loss: 5.3572e-05 - accuracy: 1.0000 - val_loss: 16.7709 - val_accuracy: 0.0278\n",
      "Epoch 17/20\n",
      "27/27 [==============================] - 0s 6ms/step - loss: 2.4833e-05 - accuracy: 1.0000 - val_loss: 17.3046 - val_accuracy: 0.0278\n",
      "Epoch 18/20\n",
      "27/27 [==============================] - 0s 4ms/step - loss: 1.0999e-05 - accuracy: 1.0000 - val_loss: 18.0681 - val_accuracy: 0.0278\n",
      "Epoch 19/20\n",
      "27/27 [==============================] - 0s 4ms/step - loss: 4.8639e-06 - accuracy: 1.0000 - val_loss: 18.5688 - val_accuracy: 0.0278\n",
      "Epoch 20/20\n",
      "27/27 [==============================] - 0s 4ms/step - loss: 2.2938e-06 - accuracy: 1.0000 - val_loss: 19.0974 - val_accuracy: 0.0278\n"
     ]
    },
    {
     "data": {
      "text/plain": "<keras.callbacks.History at 0x1d36dc7aec0>"
     },
     "execution_count": 105,
     "metadata": {},
     "output_type": "execute_result"
    }
   ],
   "source": [
    "model = models.Sequential()\n",
    "model.add(layers.Dense(64, activation='relu', input_shape=(5000, )))\n",
    "model.add(layers.Dense(32, activation='relu'))\n",
    "model.add(layers.Dense(24, activation='softmax'))\n",
    "model.compile(optimizer='rmsprop', loss='sparse_categorical_crossentropy', metrics=['accuracy'])\n",
    "\n",
    "model.fit(text_vectorized, labels, batch_size=32, epochs=20, validation_split=0.3)\n"
   ],
   "metadata": {
    "collapsed": false
   }
  }
 ],
 "metadata": {
  "kernelspec": {
   "display_name": "Python 3",
   "language": "python",
   "name": "python3"
  },
  "language_info": {
   "codemirror_mode": {
    "name": "ipython",
    "version": 2
   },
   "file_extension": ".py",
   "mimetype": "text/x-python",
   "name": "python",
   "nbconvert_exporter": "python",
   "pygments_lexer": "ipython2",
   "version": "2.7.6"
  }
 },
 "nbformat": 4,
 "nbformat_minor": 0
}
